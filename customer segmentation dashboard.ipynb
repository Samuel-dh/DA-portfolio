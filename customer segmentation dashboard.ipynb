{
 "cells": [
  {
   "cell_type": "markdown",
   "metadata": {},
   "source": [
    "## Customer Segmentation dashboard in powerBI"
   ]
  },
  {
   "cell_type": "markdown",
   "metadata": {},
   "source": [
    "# predictive churn model using random forests"
   ]
  },
  {
   "cell_type": "markdown",
   "metadata": {},
   "source": [
    "import pandas as pd\n",
    "from sklearn.model_selection import train_test_split, cross_val_score\n",
    "from sklearn.preprocessing import LabelEncoder\n",
    "from sklearn.ensemble import RandomForestClassifier\n",
    "from sklearn.metrics import accuracy_score\n",
    "\n",
    "# Encode target\n",
    "label_encoder = LabelEncoder()\n",
    "dataset['Churn_Status_Encoded'] = label_encoder.fit_transform(dataset['Churn_Status'])\n",
    "\n",
    "# Drop the 'Churn_Status' column\n",
    "dataset = dataset.drop(columns=['Churn_Status', 'Customer Status'])\n",
    "\n",
    "# One-hot encoding for categorical columns\n",
    "dataset = pd.get_dummies(dataset)\n",
    "\n",
    "# Prepare X and y for the classifier\n",
    "X = dataset.drop(columns=['Churn_Status_Encoded'])\n",
    "y = dataset['Churn_Status_Encoded']\n",
    "\n",
    "# Split data into train and test sets\n",
    "X_train, X_test, y_train, y_test = train_test_split(X, y, test_size=0.2, random_state=42)\n",
    "\n",
    "# Train the model\n",
    "rf_classifier = RandomForestClassifier(random_state=42, n_estimators=100, max_depth=None, min_samples_split=2, max_features='auto')\n",
    "rf_classifier.fit(X_train, y_train)\n",
    "\n",
    "#cross-validation\n",
    "cv_scores = cross_val_score(rf_classifier, X, y, cv=5)\n",
    "\n",
    "y_pred = rf_classifier.predict(X_test)\n",
    "accuracy = accuracy_score(y_test, y_pred)\n",
    "\n",
    "dataset.insert(4, \"predictions\", rf_classifier.predict(X))\n"
   ]
  }
 ],
 "metadata": {
  "kernelspec": {
   "display_name": "base",
   "language": "python",
   "name": "python3"
  },
  "language_info": {
   "codemirror_mode": {
    "name": "ipython",
    "version": 3
   },
   "file_extension": ".py",
   "mimetype": "text/x-python",
   "name": "python",
   "nbconvert_exporter": "python",
   "pygments_lexer": "ipython3",
   "version": "3.9.13"
  }
 },
 "nbformat": 4,
 "nbformat_minor": 2
}
